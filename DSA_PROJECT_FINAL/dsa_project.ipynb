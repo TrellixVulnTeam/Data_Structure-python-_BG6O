{
 "cells": [
  {
   "cell_type": "code",
   "execution_count": 1,
   "metadata": {},
   "outputs": [
    {
     "data": {
      "text/markdown": [
       "<span style='color:#3792cd; font-size:22px'><b>CPU_SUMILATOR CYCLE:</b></span>"
      ],
      "text/plain": [
       "<IPython.core.display.Markdown object>"
      ]
     },
     "metadata": {},
     "output_type": "display_data"
    },
    {
     "data": {
      "text/markdown": [
       "<span style='color:#0018f9; font-size:15px'><b>PHASE 1:</b></span>"
      ],
      "text/plain": [
       "<IPython.core.display.Markdown object>"
      ]
     },
     "metadata": {},
     "output_type": "display_data"
    },
    {
     "data": {
      "text/markdown": [
       "<span style='color:#0018f9; font-size:19px'><b>FETCH:</b></span>"
      ],
      "text/plain": [
       "<IPython.core.display.Markdown object>"
      ]
     },
     "metadata": {},
     "output_type": "display_data"
    },
    {
     "name": "stdout",
     "output_type": "stream",
     "text": [
      "[1365, 683, '+', 3]\n"
     ]
    },
    {
     "data": {
      "text/markdown": [
       "<span style='color:#0018f9; font-size:15px'><b>PHASE 2:</b></span>"
      ],
      "text/plain": [
       "<IPython.core.display.Markdown object>"
      ]
     },
     "metadata": {},
     "output_type": "display_data"
    },
    {
     "data": {
      "text/markdown": [
       "<span style='color:#0018f9; font-size:19px'><b>Decode:</b></span>"
      ],
      "text/plain": [
       "<IPython.core.display.Markdown object>"
      ]
     },
     "metadata": {},
     "output_type": "display_data"
    },
    {
     "name": "stdout",
     "output_type": "stream",
     "text": [
      "['10101010101', '1010101011', '0000', '11']\n"
     ]
    },
    {
     "data": {
      "text/markdown": [
       "<span style='color:#0018f9; font-size:15px'><b>PHASE 3:</b></span>"
      ],
      "text/plain": [
       "<IPython.core.display.Markdown object>"
      ]
     },
     "metadata": {},
     "output_type": "display_data"
    },
    {
     "data": {
      "text/markdown": [
       "<span style='color:#0018f9; font-size:19px'><b>Calculation  Perform after Decode:</b></span>"
      ],
      "text/plain": [
       "<IPython.core.display.Markdown object>"
      ]
     },
     "metadata": {},
     "output_type": "display_data"
    },
    {
     "name": "stdout",
     "output_type": "stream",
     "text": [
      "['10101010101', '1010101011', '0000', '100000000000']\n"
     ]
    },
    {
     "data": {
      "text/markdown": [
       "<span style='color:#0018f9; font-size:15px'><b>PHASE 4:</b></span>"
      ],
      "text/plain": [
       "<IPython.core.display.Markdown object>"
      ]
     },
     "metadata": {},
     "output_type": "display_data"
    },
    {
     "data": {
      "text/markdown": [
       "<span style='color:#0018f9; font-size:19px'><b>Excute and Encode:</b></span>"
      ],
      "text/plain": [
       "<IPython.core.display.Markdown object>"
      ]
     },
     "metadata": {},
     "output_type": "display_data"
    },
    {
     "name": "stdout",
     "output_type": "stream",
     "text": [
      "[1365, 683, '+', 2048]\n",
      "\n",
      "------------------------1----------------------\n"
     ]
    },
    {
     "data": {
      "text/markdown": [
       "<span style='color:#0018f9; font-size:15px'><b>PHASE 1:</b></span>"
      ],
      "text/plain": [
       "<IPython.core.display.Markdown object>"
      ]
     },
     "metadata": {},
     "output_type": "display_data"
    },
    {
     "data": {
      "text/markdown": [
       "<span style='color:#0018f9; font-size:19px'><b>FETCH:</b></span>"
      ],
      "text/plain": [
       "<IPython.core.display.Markdown object>"
      ]
     },
     "metadata": {},
     "output_type": "display_data"
    },
    {
     "name": "stdout",
     "output_type": "stream",
     "text": [
      "[3754, 938, '-', 2]\n"
     ]
    },
    {
     "data": {
      "text/markdown": [
       "<span style='color:#0018f9; font-size:15px'><b>PHASE 2:</b></span>"
      ],
      "text/plain": [
       "<IPython.core.display.Markdown object>"
      ]
     },
     "metadata": {},
     "output_type": "display_data"
    },
    {
     "data": {
      "text/markdown": [
       "<span style='color:#0018f9; font-size:19px'><b>Decode:</b></span>"
      ],
      "text/plain": [
       "<IPython.core.display.Markdown object>"
      ]
     },
     "metadata": {},
     "output_type": "display_data"
    },
    {
     "name": "stdout",
     "output_type": "stream",
     "text": [
      "['111010101010', '1110101010', '0001', '10']\n"
     ]
    },
    {
     "data": {
      "text/markdown": [
       "<span style='color:#0018f9; font-size:15px'><b>PHASE 3:</b></span>"
      ],
      "text/plain": [
       "<IPython.core.display.Markdown object>"
      ]
     },
     "metadata": {},
     "output_type": "display_data"
    },
    {
     "data": {
      "text/markdown": [
       "<span style='color:#0018f9; font-size:19px'><b>Calculation  Perform after Decode:</b></span>"
      ],
      "text/plain": [
       "<IPython.core.display.Markdown object>"
      ]
     },
     "metadata": {},
     "output_type": "display_data"
    },
    {
     "name": "stdout",
     "output_type": "stream",
     "text": [
      "['111010101010', '1110101010', '0001', '101100000000']\n"
     ]
    },
    {
     "data": {
      "text/markdown": [
       "<span style='color:#0018f9; font-size:15px'><b>PHASE 4:</b></span>"
      ],
      "text/plain": [
       "<IPython.core.display.Markdown object>"
      ]
     },
     "metadata": {},
     "output_type": "display_data"
    },
    {
     "data": {
      "text/markdown": [
       "<span style='color:#0018f9; font-size:19px'><b>Excute and Encode:</b></span>"
      ],
      "text/plain": [
       "<IPython.core.display.Markdown object>"
      ]
     },
     "metadata": {},
     "output_type": "display_data"
    },
    {
     "name": "stdout",
     "output_type": "stream",
     "text": [
      "[3754, 938, '-', 2816]\n",
      "\n",
      "------------------------2----------------------\n"
     ]
    },
    {
     "data": {
      "text/markdown": [
       "<span style='color:#0018f9; font-size:15px'><b>PHASE 1:</b></span>"
      ],
      "text/plain": [
       "<IPython.core.display.Markdown object>"
      ]
     },
     "metadata": {},
     "output_type": "display_data"
    },
    {
     "data": {
      "text/markdown": [
       "<span style='color:#0018f9; font-size:19px'><b>FETCH:</b></span>"
      ],
      "text/plain": [
       "<IPython.core.display.Markdown object>"
      ]
     },
     "metadata": {},
     "output_type": "display_data"
    },
    {
     "name": "stdout",
     "output_type": "stream",
     "text": [
      "[14794, 1818, '*', 10]\n"
     ]
    },
    {
     "data": {
      "text/markdown": [
       "<span style='color:#0018f9; font-size:15px'><b>PHASE 2:</b></span>"
      ],
      "text/plain": [
       "<IPython.core.display.Markdown object>"
      ]
     },
     "metadata": {},
     "output_type": "display_data"
    },
    {
     "data": {
      "text/markdown": [
       "<span style='color:#0018f9; font-size:19px'><b>Decode:</b></span>"
      ],
      "text/plain": [
       "<IPython.core.display.Markdown object>"
      ]
     },
     "metadata": {},
     "output_type": "display_data"
    },
    {
     "name": "stdout",
     "output_type": "stream",
     "text": [
      "['11100111001010', '11100011010', '0010', '1010']\n"
     ]
    },
    {
     "data": {
      "text/markdown": [
       "<span style='color:#0018f9; font-size:15px'><b>PHASE 3:</b></span>"
      ],
      "text/plain": [
       "<IPython.core.display.Markdown object>"
      ]
     },
     "metadata": {},
     "output_type": "display_data"
    },
    {
     "data": {
      "text/markdown": [
       "<span style='color:#0018f9; font-size:19px'><b>Calculation  Perform after Decode:</b></span>"
      ],
      "text/plain": [
       "<IPython.core.display.Markdown object>"
      ]
     },
     "metadata": {},
     "output_type": "display_data"
    },
    {
     "name": "stdout",
     "output_type": "stream",
     "text": [
      "['11100111001010', '11100011010', '0010', '1100110100110010010000100']\n"
     ]
    },
    {
     "data": {
      "text/markdown": [
       "<span style='color:#0018f9; font-size:15px'><b>PHASE 4:</b></span>"
      ],
      "text/plain": [
       "<IPython.core.display.Markdown object>"
      ]
     },
     "metadata": {},
     "output_type": "display_data"
    },
    {
     "data": {
      "text/markdown": [
       "<span style='color:#0018f9; font-size:19px'><b>Excute and Encode:</b></span>"
      ],
      "text/plain": [
       "<IPython.core.display.Markdown object>"
      ]
     },
     "metadata": {},
     "output_type": "display_data"
    },
    {
     "name": "stdout",
     "output_type": "stream",
     "text": [
      "[14794, 1818, '*', 26897068]\n",
      "\n",
      "------------------------3----------------------\n"
     ]
    },
    {
     "data": {
      "text/markdown": [
       "<span style='color:#0018f9; font-size:15px'><b>PHASE 1:</b></span>"
      ],
      "text/plain": [
       "<IPython.core.display.Markdown object>"
      ]
     },
     "metadata": {},
     "output_type": "display_data"
    },
    {
     "data": {
      "text/markdown": [
       "<span style='color:#0018f9; font-size:19px'><b>FETCH:</b></span>"
      ],
      "text/plain": [
       "<IPython.core.display.Markdown object>"
      ]
     },
     "metadata": {},
     "output_type": "display_data"
    },
    {
     "name": "stdout",
     "output_type": "stream",
     "text": [
      "[55637, 21845, '/', 87]\n"
     ]
    },
    {
     "data": {
      "text/markdown": [
       "<span style='color:#0018f9; font-size:15px'><b>PHASE 2:</b></span>"
      ],
      "text/plain": [
       "<IPython.core.display.Markdown object>"
      ]
     },
     "metadata": {},
     "output_type": "display_data"
    },
    {
     "data": {
      "text/markdown": [
       "<span style='color:#0018f9; font-size:19px'><b>Decode:</b></span>"
      ],
      "text/plain": [
       "<IPython.core.display.Markdown object>"
      ]
     },
     "metadata": {},
     "output_type": "display_data"
    },
    {
     "name": "stdout",
     "output_type": "stream",
     "text": [
      "['1101100101010101', '101010101010101', '0011', '1010111']\n"
     ]
    },
    {
     "data": {
      "text/markdown": [
       "<span style='color:#0018f9; font-size:15px'><b>PHASE 3:</b></span>"
      ],
      "text/plain": [
       "<IPython.core.display.Markdown object>"
      ]
     },
     "metadata": {},
     "output_type": "display_data"
    },
    {
     "data": {
      "text/markdown": [
       "<span style='color:#0018f9; font-size:19px'><b>Calculation  Perform after Decode:</b></span>"
      ],
      "text/plain": [
       "<IPython.core.display.Markdown object>"
      ]
     },
     "metadata": {},
     "output_type": "display_data"
    },
    {
     "name": "stdout",
     "output_type": "stream",
     "text": [
      "['1101100101010101', '101010101010101', '0011', '10']\n"
     ]
    },
    {
     "data": {
      "text/markdown": [
       "<span style='color:#0018f9; font-size:15px'><b>PHASE 4:</b></span>"
      ],
      "text/plain": [
       "<IPython.core.display.Markdown object>"
      ]
     },
     "metadata": {},
     "output_type": "display_data"
    },
    {
     "data": {
      "text/markdown": [
       "<span style='color:#0018f9; font-size:19px'><b>Excute and Encode:</b></span>"
      ],
      "text/plain": [
       "<IPython.core.display.Markdown object>"
      ]
     },
     "metadata": {},
     "output_type": "display_data"
    },
    {
     "name": "stdout",
     "output_type": "stream",
     "text": [
      "[55637, 21845, '/', 2]\n",
      "\n",
      "------------------------4----------------------\n"
     ]
    },
    {
     "data": {
      "text/markdown": [
       "<span style='color:#0018f9; font-size:15px'><b>PHASE 1:</b></span>"
      ],
      "text/plain": [
       "<IPython.core.display.Markdown object>"
      ]
     },
     "metadata": {},
     "output_type": "display_data"
    },
    {
     "data": {
      "text/markdown": [
       "<span style='color:#0018f9; font-size:19px'><b>FETCH:</b></span>"
      ],
      "text/plain": [
       "<IPython.core.display.Markdown object>"
      ]
     },
     "metadata": {},
     "output_type": "display_data"
    },
    {
     "name": "stdout",
     "output_type": "stream",
     "text": [
      "[1365, 683, '+', 3]\n"
     ]
    },
    {
     "data": {
      "text/markdown": [
       "<span style='color:#0018f9; font-size:15px'><b>PHASE 2:</b></span>"
      ],
      "text/plain": [
       "<IPython.core.display.Markdown object>"
      ]
     },
     "metadata": {},
     "output_type": "display_data"
    },
    {
     "data": {
      "text/markdown": [
       "<span style='color:#0018f9; font-size:19px'><b>Decode:</b></span>"
      ],
      "text/plain": [
       "<IPython.core.display.Markdown object>"
      ]
     },
     "metadata": {},
     "output_type": "display_data"
    },
    {
     "name": "stdout",
     "output_type": "stream",
     "text": [
      "['10101010101', '1010101011', '0000', '11']\n"
     ]
    },
    {
     "data": {
      "text/markdown": [
       "<span style='color:#0018f9; font-size:15px'><b>PHASE 3:</b></span>"
      ],
      "text/plain": [
       "<IPython.core.display.Markdown object>"
      ]
     },
     "metadata": {},
     "output_type": "display_data"
    },
    {
     "data": {
      "text/markdown": [
       "<span style='color:#0018f9; font-size:19px'><b>Calculation  Perform after Decode:</b></span>"
      ],
      "text/plain": [
       "<IPython.core.display.Markdown object>"
      ]
     },
     "metadata": {},
     "output_type": "display_data"
    },
    {
     "name": "stdout",
     "output_type": "stream",
     "text": [
      "['10101010101', '1010101011', '0000', '100000000000']\n"
     ]
    },
    {
     "data": {
      "text/markdown": [
       "<span style='color:#0018f9; font-size:15px'><b>PHASE 4:</b></span>"
      ],
      "text/plain": [
       "<IPython.core.display.Markdown object>"
      ]
     },
     "metadata": {},
     "output_type": "display_data"
    },
    {
     "data": {
      "text/markdown": [
       "<span style='color:#0018f9; font-size:19px'><b>Excute and Encode:</b></span>"
      ],
      "text/plain": [
       "<IPython.core.display.Markdown object>"
      ]
     },
     "metadata": {},
     "output_type": "display_data"
    },
    {
     "name": "stdout",
     "output_type": "stream",
     "text": [
      "[1365, 683, '+', 2048]\n",
      "\n",
      "------------------------5----------------------\n"
     ]
    },
    {
     "data": {
      "text/markdown": [
       "<span style='color:#0018f9; font-size:15px'><b>PHASE 1:</b></span>"
      ],
      "text/plain": [
       "<IPython.core.display.Markdown object>"
      ]
     },
     "metadata": {},
     "output_type": "display_data"
    },
    {
     "data": {
      "text/markdown": [
       "<span style='color:#0018f9; font-size:19px'><b>FETCH:</b></span>"
      ],
      "text/plain": [
       "<IPython.core.display.Markdown object>"
      ]
     },
     "metadata": {},
     "output_type": "display_data"
    },
    {
     "name": "stdout",
     "output_type": "stream",
     "text": [
      "[3754, 938, '-', 2]\n"
     ]
    },
    {
     "data": {
      "text/markdown": [
       "<span style='color:#0018f9; font-size:15px'><b>PHASE 2:</b></span>"
      ],
      "text/plain": [
       "<IPython.core.display.Markdown object>"
      ]
     },
     "metadata": {},
     "output_type": "display_data"
    },
    {
     "data": {
      "text/markdown": [
       "<span style='color:#0018f9; font-size:19px'><b>Decode:</b></span>"
      ],
      "text/plain": [
       "<IPython.core.display.Markdown object>"
      ]
     },
     "metadata": {},
     "output_type": "display_data"
    },
    {
     "name": "stdout",
     "output_type": "stream",
     "text": [
      "['111010101010', '1110101010', '0001', '10']\n"
     ]
    },
    {
     "data": {
      "text/markdown": [
       "<span style='color:#0018f9; font-size:15px'><b>PHASE 3:</b></span>"
      ],
      "text/plain": [
       "<IPython.core.display.Markdown object>"
      ]
     },
     "metadata": {},
     "output_type": "display_data"
    },
    {
     "data": {
      "text/markdown": [
       "<span style='color:#0018f9; font-size:19px'><b>Calculation  Perform after Decode:</b></span>"
      ],
      "text/plain": [
       "<IPython.core.display.Markdown object>"
      ]
     },
     "metadata": {},
     "output_type": "display_data"
    },
    {
     "name": "stdout",
     "output_type": "stream",
     "text": [
      "['111010101010', '1110101010', '0001', '101100000000']\n"
     ]
    },
    {
     "data": {
      "text/markdown": [
       "<span style='color:#0018f9; font-size:15px'><b>PHASE 4:</b></span>"
      ],
      "text/plain": [
       "<IPython.core.display.Markdown object>"
      ]
     },
     "metadata": {},
     "output_type": "display_data"
    },
    {
     "data": {
      "text/markdown": [
       "<span style='color:#0018f9; font-size:19px'><b>Excute and Encode:</b></span>"
      ],
      "text/plain": [
       "<IPython.core.display.Markdown object>"
      ]
     },
     "metadata": {},
     "output_type": "display_data"
    },
    {
     "name": "stdout",
     "output_type": "stream",
     "text": [
      "[3754, 938, '-', 2816]\n",
      "\n",
      "------------------------6----------------------\n"
     ]
    },
    {
     "data": {
      "text/markdown": [
       "<span style='color:#0018f9; font-size:15px'><b>PHASE 1:</b></span>"
      ],
      "text/plain": [
       "<IPython.core.display.Markdown object>"
      ]
     },
     "metadata": {},
     "output_type": "display_data"
    },
    {
     "data": {
      "text/markdown": [
       "<span style='color:#0018f9; font-size:19px'><b>FETCH:</b></span>"
      ],
      "text/plain": [
       "<IPython.core.display.Markdown object>"
      ]
     },
     "metadata": {},
     "output_type": "display_data"
    },
    {
     "name": "stdout",
     "output_type": "stream",
     "text": [
      "[14794, 1818, '*', 10]\n"
     ]
    },
    {
     "data": {
      "text/markdown": [
       "<span style='color:#0018f9; font-size:15px'><b>PHASE 2:</b></span>"
      ],
      "text/plain": [
       "<IPython.core.display.Markdown object>"
      ]
     },
     "metadata": {},
     "output_type": "display_data"
    },
    {
     "data": {
      "text/markdown": [
       "<span style='color:#0018f9; font-size:19px'><b>Decode:</b></span>"
      ],
      "text/plain": [
       "<IPython.core.display.Markdown object>"
      ]
     },
     "metadata": {},
     "output_type": "display_data"
    },
    {
     "name": "stdout",
     "output_type": "stream",
     "text": [
      "['11100111001010', '11100011010', '0010', '1010']\n"
     ]
    },
    {
     "data": {
      "text/markdown": [
       "<span style='color:#0018f9; font-size:15px'><b>PHASE 3:</b></span>"
      ],
      "text/plain": [
       "<IPython.core.display.Markdown object>"
      ]
     },
     "metadata": {},
     "output_type": "display_data"
    },
    {
     "data": {
      "text/markdown": [
       "<span style='color:#0018f9; font-size:19px'><b>Calculation  Perform after Decode:</b></span>"
      ],
      "text/plain": [
       "<IPython.core.display.Markdown object>"
      ]
     },
     "metadata": {},
     "output_type": "display_data"
    },
    {
     "name": "stdout",
     "output_type": "stream",
     "text": [
      "['11100111001010', '11100011010', '0010', '1100110100110010010000100']\n"
     ]
    },
    {
     "data": {
      "text/markdown": [
       "<span style='color:#0018f9; font-size:15px'><b>PHASE 4:</b></span>"
      ],
      "text/plain": [
       "<IPython.core.display.Markdown object>"
      ]
     },
     "metadata": {},
     "output_type": "display_data"
    },
    {
     "data": {
      "text/markdown": [
       "<span style='color:#0018f9; font-size:19px'><b>Excute and Encode:</b></span>"
      ],
      "text/plain": [
       "<IPython.core.display.Markdown object>"
      ]
     },
     "metadata": {},
     "output_type": "display_data"
    },
    {
     "name": "stdout",
     "output_type": "stream",
     "text": [
      "[14794, 1818, '*', 26897068]\n",
      "\n",
      "------------------------7----------------------\n"
     ]
    },
    {
     "data": {
      "text/markdown": [
       "<span style='color:#0018f9; font-size:15px'><b>PHASE 1:</b></span>"
      ],
      "text/plain": [
       "<IPython.core.display.Markdown object>"
      ]
     },
     "metadata": {},
     "output_type": "display_data"
    },
    {
     "data": {
      "text/markdown": [
       "<span style='color:#0018f9; font-size:19px'><b>FETCH:</b></span>"
      ],
      "text/plain": [
       "<IPython.core.display.Markdown object>"
      ]
     },
     "metadata": {},
     "output_type": "display_data"
    },
    {
     "name": "stdout",
     "output_type": "stream",
     "text": [
      "[55637, 21845, '/', 87]\n"
     ]
    },
    {
     "data": {
      "text/markdown": [
       "<span style='color:#0018f9; font-size:15px'><b>PHASE 2:</b></span>"
      ],
      "text/plain": [
       "<IPython.core.display.Markdown object>"
      ]
     },
     "metadata": {},
     "output_type": "display_data"
    },
    {
     "data": {
      "text/markdown": [
       "<span style='color:#0018f9; font-size:19px'><b>Decode:</b></span>"
      ],
      "text/plain": [
       "<IPython.core.display.Markdown object>"
      ]
     },
     "metadata": {},
     "output_type": "display_data"
    },
    {
     "name": "stdout",
     "output_type": "stream",
     "text": [
      "['1101100101010101', '101010101010101', '0011', '1010111']\n"
     ]
    },
    {
     "data": {
      "text/markdown": [
       "<span style='color:#0018f9; font-size:15px'><b>PHASE 3:</b></span>"
      ],
      "text/plain": [
       "<IPython.core.display.Markdown object>"
      ]
     },
     "metadata": {},
     "output_type": "display_data"
    },
    {
     "data": {
      "text/markdown": [
       "<span style='color:#0018f9; font-size:19px'><b>Calculation  Perform after Decode:</b></span>"
      ],
      "text/plain": [
       "<IPython.core.display.Markdown object>"
      ]
     },
     "metadata": {},
     "output_type": "display_data"
    },
    {
     "name": "stdout",
     "output_type": "stream",
     "text": [
      "['1101100101010101', '101010101010101', '0011', '10']\n"
     ]
    },
    {
     "data": {
      "text/markdown": [
       "<span style='color:#0018f9; font-size:15px'><b>PHASE 4:</b></span>"
      ],
      "text/plain": [
       "<IPython.core.display.Markdown object>"
      ]
     },
     "metadata": {},
     "output_type": "display_data"
    },
    {
     "data": {
      "text/markdown": [
       "<span style='color:#0018f9; font-size:19px'><b>Excute and Encode:</b></span>"
      ],
      "text/plain": [
       "<IPython.core.display.Markdown object>"
      ]
     },
     "metadata": {},
     "output_type": "display_data"
    },
    {
     "name": "stdout",
     "output_type": "stream",
     "text": [
      "[55637, 21845, '/', 2]\n",
      "\n",
      "------------------------8----------------------\n"
     ]
    }
   ],
   "source": [
    "from IPython.display import Markdown,display\n",
    "\n",
    "def printmd(string):\n",
    "    display(Markdown(string))\n",
    "    \n",
    "    \n",
    "printmd(\"<span style='color:#3792cd; font-size:22px'><b>CPU_SUMILATOR CYCLE:</b></span>\")\n",
    "\n",
    "\n",
    "# count for file lines\n",
    "def count(Filename):\n",
    "    file = open(Filename)\n",
    "    count = 0\n",
    "    count1 =0\n",
    "    for i in file:\n",
    "\n",
    "        count +=1\n",
    "        # print(count)\n",
    "    # for j in range(0,count,count):\n",
    "        # count1 += 1\n",
    "        # print(count1)\n",
    "\n",
    "    return count\n",
    "\n",
    "\n",
    "\n",
    "\n",
    "\n",
    "FILENAME  = 'DATA_OPERATION.txt'\n",
    "\n",
    "File = open(FILENAME,'r')\n",
    "Count = 0\n",
    "for i in range(0,count(FILENAME)):\n",
    "    Arr = []\n",
    "    lines = File.readlines()\n",
    "    for line in lines:\n",
    "        numbers = line.split(',')\n",
    "        Count +=1\n",
    "        for j in range(1,2):\n",
    "            f = str(File.readline())\n",
    "            numbers.append(f)\n",
    "            number_decimal = numbers[0]\n",
    "            number1_decimal = numbers[1]\n",
    "            operator_decimal = numbers[2]\n",
    "            address_decimal = numbers[3]\n",
    " \n",
    "     #phase 1 fetch           \n",
    "            \n",
    "            # binary into decimal\n",
    "            #coverting first no into decimal\n",
    "            power = 0\n",
    "            number = 0\n",
    "         \n",
    "            while number_decimal != 0:\n",
    "                number_decimal = int(number_decimal)\n",
    "                digit = int(number_decimal % 10)\n",
    "                number = number + (digit * 2 ** power)\n",
    "                power += 1\n",
    "                number_decimal = int(number_decimal / 10)\n",
    "\n",
    "\n",
    "            #converting second no into decimal\n",
    "            power = 0\n",
    "            number1 = 0\n",
    "            while (number1_decimal != 0):\n",
    "                number1_decimal = int(number1_decimal)\n",
    "                digit1 = int(number1_decimal % 10)\n",
    "                number1 = number1 + (digit1 * 2 ** power)\n",
    "                power += 1\n",
    "                number1_decimal = int(number1_decimal / 10)\n",
    "\n",
    "\n",
    "             \n",
    "            #converting address into decimal\n",
    "            power = 0\n",
    "            address = 0\n",
    "            while address_decimal != 0:\n",
    "                address_decimal = int(address_decimal)\n",
    "                digit2 = int(address_decimal % 10)\n",
    "                address = address + (digit2 * 2 ** power)\n",
    "                power += 1\n",
    "                address_decimal = int(address_decimal / 10)\n",
    "\n",
    "            \n",
    "            # converting operators into decimal +-*/\n",
    "            operator = \"\"\n",
    "            if operator_decimal == \"0000\":\n",
    "                operator = \"+\"\n",
    "            elif operator_decimal == \"0001\":\n",
    "                operator = \"-\"\n",
    "            elif operator_decimal == \"0010\":\n",
    "                operator = \"*\"\n",
    "            elif operator_decimal == \"0011\":\n",
    "                operator = \"/\"\n",
    "\n",
    "#             print(\"FETCH-Before Decode\")\n",
    "            printmd(\"<span style='color:#0018f9; font-size:15px'><b>PHASE 1:</b></span>\")\n",
    "            printmd(\"<span style='color:#0018f9; font-size:19px'><b>FETCH:</b></span>\")\n",
    "            Arr=[number, number1, operator, address]\n",
    "            print(Arr)\n",
    "#phase 2 decode\n",
    "     \n",
    "    # first number converted into binary\n",
    "            temp = ''\n",
    "            while True:\n",
    "                if number < 0:\n",
    "                    print(\"we got negative number:\")\n",
    "                    number = -(number)\n",
    "                if number > 0:\n",
    "\n",
    "                    temp += str(number % 2)\n",
    "                    number = number // 2\n",
    "                else:\n",
    "                    break\n",
    "\n",
    "\n",
    "            number_decimal = ''\n",
    "            for i in range(len(temp) - 1, -1, -1):\n",
    "                number_decimal += temp[i]\n",
    "\n",
    "\n",
    "            # second number converting into binary\n",
    "            temp1 = ''\n",
    "            while True:\n",
    "                if number1 < 0:\n",
    "                    print(\"we got negative number:\")\n",
    "                    number1 = -(number1)\n",
    "                if number1 > 0:\n",
    "                    temp1 += str(number1 % 2)\n",
    "                    number1 = number1 // 2\n",
    "                else:\n",
    "                    break\n",
    "            number1_decimal = ''\n",
    "            for i in range(len(temp1) - 1, -1, -1):\n",
    "                number1_decimal += temp1[i]\n",
    "\n",
    "\n",
    "            #address converting into binary\n",
    "            temp3 = ''\n",
    "            while True:\n",
    "                if address < 0:\n",
    "                    print(\"we got negative address\")\n",
    "                    address = -(address)\n",
    "                if address > 0:\n",
    "                    temp3 += str(address % 2)\n",
    "                    address = address // 2\n",
    "                else:\n",
    "                    break\n",
    "            address_decimal = ''\n",
    "            for i in range(len(temp3) - 1, -1, -1):\n",
    "                address_decimal += temp3[i]\n",
    "\n",
    "            \n",
    "            # converting operations into binary\n",
    "            operator_decimal = \"\"\n",
    "            if Arr[2] == \"+\":\n",
    "                operator_decimal = \"0000\"\n",
    "            elif Arr[2] == \"-\":\n",
    "                operator_decimal = \"0001\"\n",
    "            elif Arr[2] == \"*\":\n",
    "                operator_decimal = \"0010\"\n",
    "            elif Arr[2] == \"/\":\n",
    "                operator_decimal = \"0011\"\n",
    "\n",
    "\n",
    "           \n",
    "           #    print(\"Decode\")\n",
    "            printmd(\"<span style='color:#0018f9; font-size:15px'><b>PHASE 2:</b></span>\")\n",
    "            printmd(\"<span style='color:#0018f9; font-size:19px'><b>Decode:</b></span>\")\n",
    "            \n",
    "            Arr = [number_decimal, number1_decimal, operator_decimal, address_decimal]\n",
    "            print(Arr)\n",
    "\n",
    "#phase 3 calculations\n",
    "\n",
    "            # calculation\n",
    "#             print(\"Calculation  Perform after Decode:\")\n",
    "            printmd(\"<span style='color:#0018f9; font-size:15px'><b>PHASE 3:</b></span>\")\n",
    "            printmd(\"<span style='color:#0018f9; font-size:19px'><b>Calculation  Perform after Decode:</b></span>\")\n",
    "\n",
    "            \n",
    "            #converting binary into decimal\n",
    "            #converting first number into decimal\n",
    "            power = 0\n",
    "            number = 0\n",
    "            while number_decimal != 0:\n",
    "                number_decimal = int(number_decimal)\n",
    "                digit = int(number_decimal % 10)\n",
    "                number = number + (digit * 2 ** power)\n",
    "                power += 1\n",
    "                number_decimal = int(number_decimal / 10)\n",
    "\n",
    "             #converting second no into decimal\n",
    "            power = 0\n",
    "            number1 = 0\n",
    "            while (number1_decimal != 0):\n",
    "                number1_decimal = int(number1_decimal)\n",
    "                digit1 = int(number1_decimal % 10)\n",
    "                number1 = number1 + (digit1 * 2 ** power)\n",
    "                power += 1\n",
    "                number1_decimal = int(number1_decimal / 10)\n",
    "\n",
    "                #converting address into decimal\n",
    "            power = 0\n",
    "            address = 0\n",
    "            while address_decimal != 0:\n",
    "                address_decimal = int(address_decimal)\n",
    "                digit2 = int(address_decimal % 10)\n",
    "                address = address + (digit2 * 2 ** power)\n",
    "                power += 1\n",
    "                address_decimal = int(address_decimal / 10)\n",
    "\n",
    "\n",
    "\n",
    "\n",
    "            #converting binary operations into decimal then again in binary\n",
    "            if operator == \"+\":\n",
    "                result = number + number1\n",
    "                if result < 0:\n",
    "                    print(\"we got negative result:\")\n",
    "                    result = -(result)\n",
    "                address = result\n",
    "            elif operator == \"-\":\n",
    "                result = number - number1\n",
    "                if result < 0:\n",
    "                    print(\"we got negative result:\")\n",
    "                    result = -(result)\n",
    "                address = result\n",
    "            elif operator == \"*\":\n",
    "                result = number * number1\n",
    "                if result < 0:\n",
    "                    print(\"we got negative result:\")\n",
    "                    result = -(result)\n",
    "                address = result\n",
    "            elif operator == \"/\":\n",
    "                result = int(number / number1)\n",
    "                if result < 0:\n",
    "                    print(\"we got negative result:\")\n",
    "                    result = -(result)\n",
    "                if result == 0 or result == 1:\n",
    "                    result += 1\n",
    "                    address = result\n",
    "                else:  # print(result)\n",
    "                    address = result\n",
    "\n",
    "            # print(address)\n",
    "            #converting into binary\n",
    "            #converting first no into binary\n",
    "            temp = ''\n",
    "            while True:\n",
    "                if number > 0:\n",
    "                    temp += str(number % 2)\n",
    "                    number = number // 2\n",
    "                else:\n",
    "                    break\n",
    "            number_decimal = ''\n",
    "            for i in range(len(temp) - 1, -1, -1):\n",
    "                number_decimal += temp[i]\n",
    "                \n",
    "                \n",
    "            # converting second number into binary\n",
    "            temp1 = ''\n",
    "            while True:\n",
    "                if number1 > 0:\n",
    "                    temp1 += str(number1 % 2)\n",
    "                    number1 = number1 // 2\n",
    "                else:\n",
    "                    break\n",
    "            number1_decimal = ''\n",
    "            for i in range(len(temp1) - 1, -1, -1):\n",
    "                number1_decimal += temp1[i]\n",
    "                \n",
    "            # converting Address into binary\n",
    "            temp3 = ''\n",
    "            while True:\n",
    "                if address > 0:\n",
    "                    temp3 += str(address % 2)\n",
    "                    address = address // 2\n",
    "                else:\n",
    "                    break\n",
    "            address_decimal = ''\n",
    "            for i in range(len(temp3) - 1, -1, -1):\n",
    "                address_decimal += temp3[i]\n",
    "\n",
    "            Arr = [number_decimal, number1_decimal, operator_decimal, address_decimal]\n",
    "            print(Arr)\n",
    "            \n",
    "            #phase 4 excute\n",
    "#             print(\"Excute and Encode:\")\n",
    "            printmd(\"<span style='color:#0018f9; font-size:15px'><b>PHASE 4:</b></span>\")\n",
    "            printmd(\"<span style='color:#0018f9; font-size:19px'><b>Excute and Encode:</b></span>\")\n",
    "            \n",
    "            # convert binary to decimal binary_number\n",
    "            power = 0\n",
    "            while number_decimal != 0:\n",
    "                number_decimal = int(number_decimal)\n",
    "                digit = int(number_decimal % 10)\n",
    "                number = number + (digit * 2 ** power)\n",
    "                power += 1\n",
    "                number_decimal = int(number_decimal / 10)\n",
    "\n",
    "            # convert binary to decimal binary_number1\n",
    "            power = 0\n",
    "            while (number1_decimal != 0):\n",
    "                number1_decimal = int(number1_decimal)\n",
    "                digit1 = int(number1_decimal % 10)\n",
    "                number1 = number1 + (digit1 * 2 ** power)\n",
    "                power += 1\n",
    "                number1_decimal = int(number1_decimal / 10)\n",
    "\n",
    "            # convert binary to decimal binary_Address\n",
    "            power = 0\n",
    "            while address_decimal != 0:\n",
    "                address_decimal = int(address_decimal)\n",
    "                digit2 = int(address_decimal % 10)\n",
    "                address = address + (digit2 * 2 ** power)\n",
    "                power += 1\n",
    "                address_decimal = int(address_decimal / 10)\n",
    "\n",
    "            Arr = [number, number1, operator, address]\n",
    "            print(Arr)\n",
    "            print()\n",
    "            print(\"------------------------\" + str(Count) + \"----------------------\")\n",
    "\n",
    "File.close()\n"
   ]
  }
 ],
 "metadata": {
  "kernelspec": {
   "display_name": "Python 3",
   "language": "python",
   "name": "python3"
  },
  "language_info": {
   "codemirror_mode": {
    "name": "ipython",
    "version": 3
   },
   "file_extension": ".py",
   "mimetype": "text/x-python",
   "name": "python",
   "nbconvert_exporter": "python",
   "pygments_lexer": "ipython3",
   "version": "3.7.3"
  }
 },
 "nbformat": 4,
 "nbformat_minor": 2
}
