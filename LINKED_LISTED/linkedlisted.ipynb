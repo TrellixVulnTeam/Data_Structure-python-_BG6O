{
 "cells": [
  {
   "cell_type": "code",
   "execution_count": 1,
   "metadata": {},
   "outputs": [
    {
     "name": "stdout",
     "output_type": "stream",
     "text": [
      "23\n",
      "13\n",
      "14\n",
      "15\n",
      "16\n"
     ]
    }
   ],
   "source": [
    "class Node:\n",
    "\n",
    "    def __init__(self, value):\n",
    "        self.info = value\n",
    "        self.Next = None\n",
    "\n",
    "    def Print(self):\n",
    "        print(self.info)\n",
    "        # if self.Next != Node:\n",
    "        if self.Next is not None:\n",
    "            self.Next.Print()\n",
    "\n",
    "class LinkedList:\n",
    "\n",
    "    def __init__(self):\n",
    "        self.Start = None\n",
    "\n",
    "    def __int__(self, value):\n",
    "        self.Start = Node(value)\n",
    "\n",
    "    def InsertOnEnd(self, value):\n",
    "        if self.Start is None:\n",
    "            self.Start = Node(value)\n",
    "        else:\n",
    "            ptr = self.Start\n",
    "            while ptr.Next != None:\n",
    "                ptr = ptr.Next\n",
    "            ptr.Next = Node(value)\n",
    "\n",
    "    def InsertatBegin(self, value):\n",
    "        if self.Start==None:\n",
    "            self.Start = Node(value)\n",
    "        else:\n",
    "            temp = Node(value)\n",
    "            temp.Next = self.Start\n",
    "            self.Start  = temp\n",
    "\n",
    "    def print(self):\n",
    "        if self.Start ==None:\n",
    "            print(\"list is empty\")\n",
    "        else:\n",
    "            self.Start.Print()\n",
    "\n",
    "\n",
    "\n",
    "\n",
    "\n",
    "\n",
    "#MAIN\n",
    "\n",
    "# start = Node(12)\n",
    "# start.Next = Node(13)\n",
    "# start.Next.Next = Node(14)\n",
    "# start.Next.Next.Next = Node(15)\n",
    "#\n",
    "# start.print()\n",
    "\n",
    "mylist = LinkedList()\n",
    "mylist.InsertatBegin(23)\n",
    "mylist.InsertOnEnd(13)\n",
    "mylist.InsertOnEnd(14)\n",
    "mylist.InsertOnEnd(15)\n",
    "mylist.InsertOnEnd(16)\n",
    "mylist.print()\n",
    "\n"
   ]
  },
  {
   "cell_type": "code",
   "execution_count": null,
   "metadata": {},
   "outputs": [],
   "source": []
  }
 ],
 "metadata": {
  "kernelspec": {
   "display_name": "Python 3",
   "language": "python",
   "name": "python3"
  },
  "language_info": {
   "codemirror_mode": {
    "name": "ipython",
    "version": 3
   },
   "file_extension": ".py",
   "mimetype": "text/x-python",
   "name": "python",
   "nbconvert_exporter": "python",
   "pygments_lexer": "ipython3",
   "version": "3.7.3"
  }
 },
 "nbformat": 4,
 "nbformat_minor": 2
}
