{
 "cells": [
  {
   "cell_type": "code",
   "execution_count": null,
   "metadata": {},
   "outputs": [
    {
     "name": "stdout",
     "output_type": "stream",
     "text": [
      "Enter decimal number: 55\n"
     ]
    }
   ],
   "source": [
    "# from numpy import array\n",
    "\n",
    "# def Push( Arr, Top, Maxstk, Value):\n",
    "#     if Top == Maxstk-1:\n",
    "#         print(\"stack full\")\n",
    "#     else:\n",
    "#         Top[0] +=1\n",
    "#         Arr[Top[0]] = Value\n",
    "# Top = [-1]\n",
    "# Maxstk = 5\n",
    "\n",
    "# Arr = array([0 for i in range(0, Maxstk)])\n",
    "\n",
    "# Value = int(input(\"inster value\"))\n",
    "# Push(Arr,Top,Maxstk,Value)\n",
    "\n",
    "# Value = int(input(\"inster value\"))\n",
    "# Push(Arr,Top,Maxstk,Value)\n",
    "\n",
    "# Value = int(input(\"inster value\"))\n",
    "# Push(Arr,Top,Maxstk,Value)\n",
    "\n",
    "\n",
    "# for i in range(0,Top[0] + 1):\n",
    "#     print(Arr[i], end=\" \")\n",
    "\n",
    "number = int(input('Enter decimal number: '))\n",
    "\n",
    "temp = ''\n",
    "while True:\n",
    "    if number >= 0:\n",
    "        # mod\n",
    "        temp += str(number % 2)\n",
    "\n",
    "        number = number // 2\n",
    "    else:\n",
    "        break\n",
    "result = ''\n",
    "for i in range(len(temp)-1, -1, -1):\n",
    "    result += temp[i]\n",
    "    \n",
    "    \n",
    "print('In binary format: ', result)\n",
    "    \n"
   ]
  },
  {
   "cell_type": "code",
   "execution_count": null,
   "metadata": {},
   "outputs": [],
   "source": []
  }
 ],
 "metadata": {
  "kernelspec": {
   "display_name": "Python 3",
   "language": "python",
   "name": "python3"
  },
  "language_info": {
   "codemirror_mode": {
    "name": "ipython",
    "version": 3
   },
   "file_extension": ".py",
   "mimetype": "text/x-python",
   "name": "python",
   "nbconvert_exporter": "python",
   "pygments_lexer": "ipython3",
   "version": "3.7.3"
  }
 },
 "nbformat": 4,
 "nbformat_minor": 2
}
