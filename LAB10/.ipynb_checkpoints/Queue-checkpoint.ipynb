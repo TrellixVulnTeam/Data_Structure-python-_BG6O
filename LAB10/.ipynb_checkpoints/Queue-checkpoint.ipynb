{
 "cells": [
  {
   "cell_type": "code",
   "execution_count": 7,
   "metadata": {},
   "outputs": [],
   "source": [
    "from numpy import array \n",
    "\n",
    "class Queue:\n",
    "    def __init__ (self,value):\n",
    "        self.front=0\n",
    "        self.rear=-1\n",
    "        self.size=value\n",
    "        self.Array=array([0 for i in range(0,self.size)])\n",
    "        \n",
    "    def isfull(self):\n",
    "        if(self.rear==self.size-1):\n",
    "            return True\n",
    "        else:\n",
    "            return False\n",
    "        \n",
    "    def isempty(self):\n",
    "        if(self.rear==-1):\n",
    "            return True\n",
    "        else:\n",
    "            return False \n",
    "        \n",
    "    def enQueue(self,value):\n",
    "        if(self.isfull()):\n",
    "            print(\"queue is full\")\n",
    "        else:\n",
    "            self.rear+=1\n",
    "            self.Array[self.rear]=value\n",
    "            \n",
    "            \n",
    "    def deQueue(self):\n",
    "        if(self.isempty()):\n",
    "            print(\"queue is empty\")\n",
    "        else:\n",
    "            value=self.Array[self.front]\n",
    "            for i in range(0,self.rear):\n",
    "                self.Array[i]=self.Array[i+1]\n",
    "            self.rear-=1\n",
    "            return value\n",
    "        \n",
    "    def print(self):\n",
    "        if(self.isempty()):\n",
    "            print(\"queue is empty\")\n",
    "        else:\n",
    "            for i in range(self.front,self.rear+1):\n",
    "                print(self.Array[i],end=\" \")"
   ]
  },
  {
   "cell_type": "code",
   "execution_count": 8,
   "metadata": {},
   "outputs": [
    {
     "name": "stdout",
     "output_type": "stream",
     "text": [
      "12 13 14 15 16 "
     ]
    }
   ],
   "source": [
    "myqueue = Queue(6)\n",
    "myqueue.enQueue(12)\n",
    "myqueue.enQueue(13)\n",
    "myqueue.enQueue(14)\n",
    "myqueue.enQueue(15)\n",
    "myqueue.enQueue(16)\n",
    "myqueue.print()"
   ]
  }
 ],
 "metadata": {
  "kernelspec": {
   "display_name": "Python 3",
   "language": "python",
   "name": "python3"
  },
  "language_info": {
   "codemirror_mode": {
    "name": "ipython",
    "version": 3
   },
   "file_extension": ".py",
   "mimetype": "text/x-python",
   "name": "python",
   "nbconvert_exporter": "python",
   "pygments_lexer": "ipython3",
   "version": "3.7.3"
  }
 },
 "nbformat": 4,
 "nbformat_minor": 2
}
