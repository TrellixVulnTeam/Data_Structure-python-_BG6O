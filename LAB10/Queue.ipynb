{
 "cells": [
  {
   "cell_type": "code",
   "execution_count": 9,
   "metadata": {},
   "outputs": [
    {
     "name": "stdout",
     "output_type": "stream",
     "text": [
      "12 13 14 15 16 "
     ]
    }
   ],
   "source": [
    "from numpy import array \n",
    "\n",
    "class Queue:\n",
    "    def __init__ (self,value):\n",
    "        self.front=0\n",
    "        self.rear=-1\n",
    "        self.size=value\n",
    "        self.Array=array([0 for i in range(0,self.size)])\n",
    "        \n",
    "    def isfull(self):\n",
    "        if(self.rear==self.size-1):\n",
    "            return True\n",
    "        else:\n",
    "            return False\n",
    "        \n",
    "    def isempty(self):\n",
    "        if(self.rear==-1):\n",
    "            return True\n",
    "        else:\n",
    "            return False \n",
    "        \n",
    "    def enQueue(self,value):\n",
    "        if(self.isfull()):\n",
    "            print(\"queue is full\")\n",
    "        else:\n",
    "            self.rear+=1\n",
    "            self.Array[self.rear]=value\n",
    "            \n",
    "            \n",
    "    def deQueue(self):\n",
    "        if(self.isempty()):\n",
    "            print(\"queue is empty\")\n",
    "        else:\n",
    "            value=self.Array[self.front]\n",
    "            for i in range(0,self.rear):\n",
    "                self.Array[i]=self.Array[i+1]\n",
    "            self.rear-=1\n",
    "            return value\n",
    "        \n",
    "    def print(self):\n",
    "        if(self.isempty()):\n",
    "            print(\"queue is empty\")\n",
    "        else:\n",
    "            for i in range(self.front,self.rear+1):\n",
    "                print(self.Array[i],end=\" \")\n",
    "\n",
    "                \n",
    "\n",
    "myqueue = Queue(6)\n",
    "myqueue.enQueue(12)\n",
    "myqueue.enQueue(13)\n",
    "myqueue.enQueue(14)\n",
    "myqueue.enQueue(15)\n",
    "myqueue.enQueue(16)\n",
    "myqueue.print()"
   ]
  },
  {
   "cell_type": "code",
   "execution_count": 22,
   "metadata": {},
   "outputs": [
    {
     "ename": "NameError",
     "evalue": "name 'self' is not defined",
     "output_type": "error",
     "traceback": [
      "\u001b[1;31m---------------------------------------------------------------------------\u001b[0m",
      "\u001b[1;31mNameError\u001b[0m                                 Traceback (most recent call last)",
      "\u001b[1;32m<ipython-input-22-6f53d8ba28b9>\u001b[0m in \u001b[0;36m<module>\u001b[1;34m\u001b[0m\n\u001b[0;32m     46\u001b[0m \u001b[1;33m\u001b[0m\u001b[0m\n\u001b[0;32m     47\u001b[0m \u001b[0mmyqueue\u001b[0m \u001b[1;33m=\u001b[0m \u001b[0mCircularQueue\u001b[0m\u001b[1;33m(\u001b[0m\u001b[1;36m5\u001b[0m\u001b[1;33m)\u001b[0m\u001b[1;33m\u001b[0m\u001b[1;33m\u001b[0m\u001b[0m\n\u001b[1;32m---> 48\u001b[1;33m \u001b[0mmyqueue\u001b[0m\u001b[1;33m.\u001b[0m\u001b[0menqueue\u001b[0m\u001b[1;33m(\u001b[0m\u001b[1;36m12\u001b[0m\u001b[1;33m)\u001b[0m\u001b[1;33m\u001b[0m\u001b[1;33m\u001b[0m\u001b[0m\n\u001b[0m\u001b[0;32m     49\u001b[0m \u001b[0mmyqueue\u001b[0m\u001b[1;33m.\u001b[0m\u001b[0menqueue\u001b[0m\u001b[1;33m(\u001b[0m\u001b[1;36m13\u001b[0m\u001b[1;33m)\u001b[0m\u001b[1;33m\u001b[0m\u001b[1;33m\u001b[0m\u001b[0m\n\u001b[0;32m     50\u001b[0m \u001b[0mmyqueue\u001b[0m\u001b[1;33m.\u001b[0m\u001b[0menqueue\u001b[0m\u001b[1;33m(\u001b[0m\u001b[1;36m14\u001b[0m\u001b[1;33m)\u001b[0m\u001b[1;33m\u001b[0m\u001b[1;33m\u001b[0m\u001b[0m\n",
      "\u001b[1;32m<ipython-input-22-6f53d8ba28b9>\u001b[0m in \u001b[0;36menqueue\u001b[1;34m(self, value)\u001b[0m\n\u001b[0;32m     19\u001b[0m             \u001b[1;32mreturn\u001b[0m \u001b[1;32mFalse\u001b[0m\u001b[1;33m\u001b[0m\u001b[1;33m\u001b[0m\u001b[0m\n\u001b[0;32m     20\u001b[0m     \u001b[1;32mdef\u001b[0m \u001b[0menqueue\u001b[0m\u001b[1;33m(\u001b[0m\u001b[0mself\u001b[0m\u001b[1;33m,\u001b[0m\u001b[0mvalue\u001b[0m\u001b[1;33m)\u001b[0m\u001b[1;33m:\u001b[0m\u001b[1;33m\u001b[0m\u001b[1;33m\u001b[0m\u001b[0m\n\u001b[1;32m---> 21\u001b[1;33m         \u001b[1;32mif\u001b[0m\u001b[1;33m(\u001b[0m\u001b[0mself\u001b[0m\u001b[1;33m.\u001b[0m\u001b[0mIsfull\u001b[0m\u001b[1;33m(\u001b[0m\u001b[1;33m)\u001b[0m\u001b[1;33m)\u001b[0m\u001b[1;33m:\u001b[0m\u001b[1;33m\u001b[0m\u001b[1;33m\u001b[0m\u001b[0m\n\u001b[0m\u001b[0;32m     22\u001b[0m             \u001b[0mprint\u001b[0m\u001b[1;33m(\u001b[0m\u001b[1;34m\"Queue is full\"\u001b[0m\u001b[1;33m)\u001b[0m\u001b[1;33m\u001b[0m\u001b[1;33m\u001b[0m\u001b[0m\n\u001b[0;32m     23\u001b[0m         \u001b[1;32melse\u001b[0m\u001b[1;33m:\u001b[0m\u001b[1;33m\u001b[0m\u001b[1;33m\u001b[0m\u001b[0m\n",
      "\u001b[1;32m<ipython-input-22-6f53d8ba28b9>\u001b[0m in \u001b[0;36mIsfull\u001b[1;34m(Self)\u001b[0m\n\u001b[0;32m      8\u001b[0m     \u001b[1;32mdef\u001b[0m \u001b[0mIsfull\u001b[0m\u001b[1;33m(\u001b[0m\u001b[0mSelf\u001b[0m\u001b[1;33m)\u001b[0m\u001b[1;33m:\u001b[0m\u001b[1;33m\u001b[0m\u001b[1;33m\u001b[0m\u001b[0m\n\u001b[0;32m      9\u001b[0m \u001b[1;31m#         self.rear + 1 % self.size == self.front\u001b[0m\u001b[1;33m\u001b[0m\u001b[1;33m\u001b[0m\u001b[1;33m\u001b[0m\u001b[0m\n\u001b[1;32m---> 10\u001b[1;33m         \u001b[1;32mif\u001b[0m\u001b[1;33m(\u001b[0m\u001b[1;33m(\u001b[0m\u001b[0mself\u001b[0m\u001b[1;33m.\u001b[0m\u001b[0mfront\u001b[0m \u001b[1;33m==\u001b[0m\u001b[1;36m0\u001b[0m \u001b[1;32mand\u001b[0m \u001b[0mself\u001b[0m\u001b[1;33m.\u001b[0m\u001b[0mrear\u001b[0m \u001b[1;33m==\u001b[0m \u001b[0mself\u001b[0m\u001b[1;33m.\u001b[0m\u001b[0msize\u001b[0m \u001b[1;33m-\u001b[0m\u001b[1;36m1\u001b[0m\u001b[1;33m)\u001b[0m \u001b[1;32mor\u001b[0m \u001b[1;33m(\u001b[0m\u001b[0mself\u001b[0m\u001b[1;33m.\u001b[0m\u001b[0mrear\u001b[0m \u001b[1;33m+\u001b[0m\u001b[1;36m1\u001b[0m \u001b[1;33m==\u001b[0m \u001b[0mself\u001b[0m\u001b[1;33m.\u001b[0m\u001b[0mfront\u001b[0m\u001b[1;33m)\u001b[0m\u001b[1;33m)\u001b[0m\u001b[1;33m:\u001b[0m\u001b[1;33m\u001b[0m\u001b[1;33m\u001b[0m\u001b[0m\n\u001b[0m\u001b[0;32m     11\u001b[0m             \u001b[1;32mreturn\u001b[0m \u001b[1;32mTrue\u001b[0m\u001b[1;33m\u001b[0m\u001b[1;33m\u001b[0m\u001b[0m\n\u001b[0;32m     12\u001b[0m         \u001b[1;32melse\u001b[0m\u001b[1;33m:\u001b[0m\u001b[1;33m\u001b[0m\u001b[1;33m\u001b[0m\u001b[0m\n",
      "\u001b[1;31mNameError\u001b[0m: name 'self' is not defined"
     ]
    }
   ],
   "source": [
    "class CircularQueue:\n",
    "    \n",
    "    def __init__(self,value):\n",
    "        self.front=-1\n",
    "        self.rear=-1\n",
    "        self.size=value\n",
    "        self.Array=array([0 for i in range(0,self.size)])\n",
    "    def Isfull(Self):\n",
    "#         self.rear + 1 % self.size == self.front\n",
    "        if((self.front ==0 and self.rear == self.size -1) or (self.rear +1 == self.front)):\n",
    "            return True\n",
    "        else:\n",
    "            return False\n",
    "        \n",
    "    def Isemtpy(self):\n",
    "        if self.front == -1:\n",
    "                 return True\n",
    "        else:\n",
    "            return False\n",
    "    def enqueue(self,value):\n",
    "        if(self.Isfull()):\n",
    "            print(\"Queue is full\")\n",
    "        else:\n",
    "            if self.front == -1:\n",
    "                self.front +=1\n",
    "            self.rear = (self.rear +1) % self.size\n",
    "            self.Array[self.rear] = value\n",
    "            \n",
    "#     def dequeue(self):\n",
    "#         if (self.Isemtpy):\n",
    "#             print(\"Queue is empty\")\n",
    "#         else:\n",
    "            \n",
    "            \n",
    "    def Print(self):\n",
    "        if (self.Isemtpy()):\n",
    "            print(\"queue is empty\")\n",
    "        else:\n",
    "            i = self.front\n",
    "            \n",
    "            while (i!= self.rear):\n",
    "                print(self.Array[i],end=\" \")\n",
    "                i = (i +1) % self.size\n",
    "            print(self.Array[i])\n",
    "            \n",
    "\n",
    "myqueue = CircularQueue(5) \n",
    "myqueue.enqueue(12)\n",
    "myqueue.enqueue(13)\n",
    "myqueue.enqueue(14)\n",
    "myqueue.Print()"
   ]
  },
  {
   "cell_type": "code",
   "execution_count": null,
   "metadata": {},
   "outputs": [],
   "source": []
  }
 ],
 "metadata": {
  "kernelspec": {
   "display_name": "Python 3",
   "language": "python",
   "name": "python3"
  },
  "language_info": {
   "codemirror_mode": {
    "name": "ipython",
    "version": 3
   },
   "file_extension": ".py",
   "mimetype": "text/x-python",
   "name": "python",
   "nbconvert_exporter": "python",
   "pygments_lexer": "ipython3",
   "version": "3.7.3"
  }
 },
 "nbformat": 4,
 "nbformat_minor": 2
}
