{
 "cells": [
  {
   "cell_type": "code",
   "execution_count": 2,
   "metadata": {},
   "outputs": [
    {
     "name": "stdout",
     "output_type": "stream",
     "text": [
      "[1 2 3 4 5 6]\n"
     ]
    }
   ],
   "source": [
    "import numpy as np\n",
    "Numbers = np.array([1,5,2,4,3,6])\n",
    "count1 = 0\n",
    "for i in range(len(Numbers) - 1):\n",
    "    for j in range(len(Numbers) -1 -i):\n",
    "        if Numbers[j] > Numbers[j+1]:\n",
    "            temp = Numbers[j]\n",
    "            Numbers[j] = Numbers[j +1]\n",
    "            Numbers[j +1] =temp\n",
    "\n",
    "\n",
    "print(Numbers)"
   ]
  }
 ],
 "metadata": {
  "kernelspec": {
   "display_name": "Python 3",
   "language": "python",
   "name": "python3"
  },
  "language_info": {
   "codemirror_mode": {
    "name": "ipython",
    "version": 3
   },
   "file_extension": ".py",
   "mimetype": "text/x-python",
   "name": "python",
   "nbconvert_exporter": "python",
   "pygments_lexer": "ipython3",
   "version": "3.7.3"
  }
 },
 "nbformat": 4,
 "nbformat_minor": 2
}
