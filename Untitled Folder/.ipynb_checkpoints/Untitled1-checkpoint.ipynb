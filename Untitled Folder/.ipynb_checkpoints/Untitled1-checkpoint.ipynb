{
 "cells": [
  {
   "cell_type": "code",
   "execution_count": 9,
   "metadata": {},
   "outputs": [
    {
     "name": "stdout",
     "output_type": "stream",
     "text": [
      "0.10949410000011994\n",
      "0.00015669999993406236\n"
     ]
    }
   ],
   "source": [
    "import numpy as np\n",
    "from timeit import Timer\n",
    "\n",
    "\n",
    "size_of_vec = 1000\n",
    "x_list = range(size_of_vec)\n",
    "y_list = range(size_of_vec)\n",
    "x = np.array(size_of_vec)\n",
    "y = np.array(size_of_vec)\n",
    "\n",
    "\n",
    "\n",
    "def pure_python_version():\n",
    "    z = [x_list[i] + y_list[i] for i in range(len(x_list))]\n",
    "    \n",
    "    \n",
    "def numpy_version():\n",
    "    z = x + y\n",
    "\n",
    "time_obj1 = Timer(\"pure_python_version()\",\"from __main__ import pure_python_version\")\n",
    "\n",
    "time_obj2 = Timer(\"numpy_version()\",\"from __main__ import numpy_version\")\n",
    " \n",
    "print(time_obj1.timeit(200))\n",
    "print(time_obj2.timeit(200))\n",
    "\n",
    "# print(time_obj1.repeat(repeat=3,number=200))\n",
    "# print(time_obj2.repeat(repeat=3,number=200))"
   ]
  }
 ],
 "metadata": {
  "kernelspec": {
   "display_name": "Python 3",
   "language": "python",
   "name": "python3"
  },
  "language_info": {
   "codemirror_mode": {
    "name": "ipython",
    "version": 3
   },
   "file_extension": ".py",
   "mimetype": "text/x-python",
   "name": "python",
   "nbconvert_exporter": "python",
   "pygments_lexer": "ipython3",
   "version": "3.7.3"
  }
 },
 "nbformat": 4,
 "nbformat_minor": 2
}
